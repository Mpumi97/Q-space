{
 "cells": [
  {
   "cell_type": "code",
   "execution_count": 12,
   "metadata": {},
   "outputs": [
    {
     "name": "stdout",
     "output_type": "stream",
     "text": [
      "Summer Sch\n"
     ]
    }
   ],
   "source": [
    "file_object = open('myfile.txt', 'r')\n",
    "print(file_object.read(10))\n",
    "# print(file_object.readline(5))\n",
    "file_object.close()"
   ]
  },
  {
   "cell_type": "code",
   "execution_count": 8,
   "metadata": {},
   "outputs": [
    {
     "name": "stdout",
     "output_type": "stream",
     "text": [
      "Summer School\n",
      " Welcome!\n",
      " 123\n"
     ]
    }
   ],
   "source": [
    "file_read = open('myfile.txt', 'r')\n",
    "\n",
    "line_list = file_read.readlines()\n",
    "string = ' '.join(line_list)\n",
    "print(string)\n",
    "\n",
    "file_read.close()"
   ]
  },
  {
   "cell_type": "code",
   "execution_count": 17,
   "metadata": {},
   "outputs": [
    {
     "name": "stdout",
     "output_type": "stream",
     "text": [
      "Summer School\n",
      " Welcome!\n",
      " 123 "
     ]
    }
   ],
   "source": [
    "text = open('myfile.txt', 'r')\n",
    "\n",
    "for lines in text:\n",
    "    print(lines, end = ' ')\n",
    "\n",
    "text.close()"
   ]
  },
  {
   "cell_type": "code",
   "execution_count": 18,
   "metadata": {},
   "outputs": [
    {
     "name": "stdout",
     "output_type": "stream",
     "text": [
      "Summer School\n",
      "Welcome!\n",
      "123\n"
     ]
    }
   ],
   "source": [
    "with open('myfile.txt', 'r') as file:\n",
    "    print(file.read())"
   ]
  },
  {
   "cell_type": "code",
   "execution_count": 20,
   "metadata": {},
   "outputs": [],
   "source": [
    "file1 = open('mydemo.txt', 'w')\n",
    "file1.write('But I love you!') \n",
    "file1.close()"
   ]
  },
  {
   "cell_type": "code",
   "execution_count": 21,
   "metadata": {},
   "outputs": [],
   "source": [
    "with open('mydemo.txt', 'w') as file2:\n",
    "    file2.write('I just overwrote a line')\n"
   ]
  },
  {
   "cell_type": "code",
   "execution_count": 24,
   "metadata": {},
   "outputs": [],
   "source": [
    "with open('mydemo.txt', 'a') as file3:\n",
    "    file3.write('\\nHello world, again')"
   ]
  },
  {
   "cell_type": "code",
   "execution_count": 26,
   "metadata": {},
   "outputs": [],
   "source": [
    "with open('newfile1.txt', 'w') as new:\n",
    "    new.write('Hello')"
   ]
  },
  {
   "cell_type": "code",
   "execution_count": 27,
   "metadata": {},
   "outputs": [],
   "source": [
    "import os"
   ]
  },
  {
   "cell_type": "code",
   "execution_count": 29,
   "metadata": {},
   "outputs": [
    {
     "data": {
      "text/plain": [
       "['.git',\n",
       " 'bioactivity_preprocessed_data.csv',\n",
       " 'CHPC Training.code-workspace',\n",
       " 'data.csv',\n",
       " 'Exercise 8.ipynb',\n",
       " 'Exercise10.ipynb',\n",
       " 'Exercise11.ipynb',\n",
       " 'Exercise9.ipynb',\n",
       " 'index.css',\n",
       " 'index.html',\n",
       " 'index.py',\n",
       " 'math.tex',\n",
       " 'MatplotTut.ipynb',\n",
       " 'Mutiple plots.jpg',\n",
       " 'mydemo.txt',\n",
       " 'myfile.txt',\n",
       " 'mygraph.jpg',\n",
       " 'my_data.txt',\n",
       " 'newfile.txt',\n",
       " 'newfile1.txt',\n",
       " 'Numpy 3 Lesson.ipynb',\n",
       " 'Numpy Lesson.ipynb',\n",
       " 'Pandas.ipynb',\n",
       " 'pandas_tut.ipynb',\n",
       " 'python_data.csv',\n",
       " 'python_data2.csv',\n",
       " 'Scatter plot.jpg',\n",
       " 'Two graphs.jpg',\n",
       " 'Two graphs.pdf',\n",
       " 'Yields.jpg']"
      ]
     },
     "execution_count": 29,
     "metadata": {},
     "output_type": "execute_result"
    }
   ],
   "source": [
    "os.listdir()"
   ]
  },
  {
   "cell_type": "code",
   "execution_count": 30,
   "metadata": {},
   "outputs": [],
   "source": [
    "os.makedirs('OSFolder')"
   ]
  },
  {
   "cell_type": "code",
   "execution_count": 31,
   "metadata": {},
   "outputs": [],
   "source": [
    "os.rmdir('OSFolder')"
   ]
  },
  {
   "cell_type": "code",
   "execution_count": 32,
   "metadata": {},
   "outputs": [],
   "source": [
    "os.remove('myfile.txt')"
   ]
  },
  {
   "cell_type": "code",
   "execution_count": 34,
   "metadata": {},
   "outputs": [
    {
     "name": "stdout",
     "output_type": "stream",
     "text": [
      "File removed\n"
     ]
    }
   ],
   "source": [
    "if os.path.exists('newfile.txt'):\n",
    "    os.remove('newfile.txt')\n",
    "    print('File removed')\n",
    "else:\n",
    "    print('The file does not exist')"
   ]
  },
  {
   "cell_type": "code",
   "execution_count": 37,
   "metadata": {},
   "outputs": [
    {
     "name": "stdout",
     "output_type": "stream",
     "text": [
      "File does not exist\n"
     ]
    }
   ],
   "source": [
    "if os.path.exists('mydemo.txt'):\n",
    "    os.remove('mydemo.txt')\n",
    "else:\n",
    "    print('File does not exist')"
   ]
  },
  {
   "cell_type": "code",
   "execution_count": 38,
   "metadata": {},
   "outputs": [
    {
     "name": "stderr",
     "output_type": "stream",
     "text": [
      "'ls' is not recognized as an internal or external command,\n",
      "operable program or batch file.\n"
     ]
    }
   ],
   "source": [
    "! ls"
   ]
  },
  {
   "cell_type": "code",
   "execution_count": null,
   "metadata": {},
   "outputs": [],
   "source": []
  }
 ],
 "metadata": {
  "interpreter": {
   "hash": "58de013c4e40a10a7efe3c12eec354b1c6ee5fc00b1a74b18c170261e34affb2"
  },
  "kernelspec": {
   "display_name": "Python 3.9.2 64-bit",
   "language": "python",
   "name": "python3"
  },
  "language_info": {
   "codemirror_mode": {
    "name": "ipython",
    "version": 3
   },
   "file_extension": ".py",
   "mimetype": "text/x-python",
   "name": "python",
   "nbconvert_exporter": "python",
   "pygments_lexer": "ipython3",
   "version": "3.9.2"
  },
  "orig_nbformat": 4
 },
 "nbformat": 4,
 "nbformat_minor": 2
}
