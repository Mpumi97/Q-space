{
 "cells": [
  {
   "cell_type": "code",
   "execution_count": 30,
   "metadata": {},
   "outputs": [
    {
     "name": "stdout",
     "output_type": "stream",
     "text": [
      "<class 'pandas.core.frame.DataFrame'>\n",
      "RangeIndex: 14 entries, 0 to 13\n",
      "Data columns (total 4 columns):\n",
      " #   Column   Non-Null Count  Dtype \n",
      "---  ------   --------------  ----- \n",
      " 0   DOB      14 non-null     object\n",
      " 1   age      14 non-null     int64 \n",
      " 2   gender   14 non-null     object\n",
      " 3   country  14 non-null     object\n",
      "dtypes: int64(1), object(3)\n",
      "memory usage: 576.0+ bytes\n",
      "None\n",
      "               DOB        age gender country\n",
      "count           14  14.000000     14      14\n",
      "unique          14        NaN      2       8\n",
      "top     1993-07-06        NaN      M      ZA\n",
      "freq             1        NaN      8       5\n",
      "mean           NaN  40.642857    NaN     NaN\n",
      "std            NaN  14.280741    NaN     NaN\n",
      "min            NaN  24.000000    NaN     NaN\n",
      "25%            NaN  29.500000    NaN     NaN\n",
      "50%            NaN  35.500000    NaN     NaN\n",
      "75%            NaN  51.250000    NaN     NaN\n",
      "max            NaN  69.000000    NaN     NaN\n",
      "          DOB  age\n",
      "0  1993-07-06   28\n",
      "1  1997-06-01   24\n",
      "2  1997-08-30   24\n",
      "3  1963-06-14   58\n",
      "4  1964-01-02   58\n",
      "5  1952-06-20   69\n",
      "6  1987-04-23   34\n",
      "7  1987-09-22   34\n",
      "8  1994-06-19   27\n",
      "9  1972-09-17   49\n",
      "           DOB  age gender country\n",
      "1   1997-06-01   24      F      ZA\n",
      "2   1997-08-30   24      F      LS\n",
      "8   1994-06-19   27      M      GH\n",
      "0   1993-07-06   28      F      ZA\n",
      "6   1987-04-23   34      M      GH\n",
      "7   1987-09-22   34      F      KE\n",
      "13  1987-06-20   34      F      ZA\n",
      "12  1984-06-28   37      M      UG\n",
      "10  1980-05-21   41      M      ZA\n",
      "9   1972-09-17   49      F      ZA\n",
      "11  1969-02-15   52      M      NG\n",
      "3   1963-06-14   58      M      BW\n",
      "4   1964-01-02   58      M      EG\n",
      "5   1952-06-20   69      M      GH\n",
      "              age\n",
      "gender           \n",
      "F       32.166667\n",
      "M       47.000000\n",
      "Empty DataFrame\n",
      "Columns: [DOB, age, gender, country]\n",
      "Index: []\n"
     ]
    }
   ],
   "source": [
    "#import libraries\n",
    "import pandas as pd \n",
    "\n",
    "# 1. Read the python_data.csv\n",
    "\n",
    "#read the file \n",
    "df = pd.read_csv('python_data.csv')\n",
    "\n",
    "#drop the index column to avoid redudancy\n",
    "df.drop(['index'], axis = 1, inplace = True)\n",
    "df.head()\n",
    "\n",
    "# 2. Analyse the data\n",
    "\n",
    "#using info()\n",
    "print(df.info())\n",
    "\n",
    "#using describe()\n",
    "print(df.describe(include = 'all'))\n",
    "\n",
    "3. #Print out first 10 rows of the DOB and Age columns\n",
    "print(df[['DOB', 'age']].head(10))\n",
    "\n",
    "# 4. Sort the age column in ascending order by age\n",
    "print(df.sort_values(by = 'age', ascending = True))\n",
    "\n",
    "# 5. Group the men and women by their mean age and gender\n",
    "print(df.groupby(['gender']).mean())\n",
    "\n",
    "# 6. Create a filter that shows people below the age of 60, who are female (F) and are from Ghana (GH)\n",
    "filter = (df['age']<60) & (df['gender']=='F') & (df['country']=='GH')\n",
    "print(df[filter])"
   ]
  },
  {
   "cell_type": "code",
   "execution_count": 14,
   "metadata": {},
   "outputs": [
    {
     "data": {
      "text/html": [
       "<div>\n",
       "<style scoped>\n",
       "    .dataframe tbody tr th:only-of-type {\n",
       "        vertical-align: middle;\n",
       "    }\n",
       "\n",
       "    .dataframe tbody tr th {\n",
       "        vertical-align: top;\n",
       "    }\n",
       "\n",
       "    .dataframe thead th {\n",
       "        text-align: right;\n",
       "    }\n",
       "</style>\n",
       "<table border=\"1\" class=\"dataframe\">\n",
       "  <thead>\n",
       "    <tr style=\"text-align: right;\">\n",
       "      <th></th>\n",
       "      <th>DOB</th>\n",
       "      <th>age</th>\n",
       "      <th>gender</th>\n",
       "      <th>country</th>\n",
       "    </tr>\n",
       "  </thead>\n",
       "  <tbody>\n",
       "    <tr>\n",
       "      <th>0</th>\n",
       "      <td>1993-07-06</td>\n",
       "      <td>28</td>\n",
       "      <td>F</td>\n",
       "      <td>ZA</td>\n",
       "    </tr>\n",
       "    <tr>\n",
       "      <th>1</th>\n",
       "      <td>1997-06-01</td>\n",
       "      <td>24</td>\n",
       "      <td>F</td>\n",
       "      <td>ZA</td>\n",
       "    </tr>\n",
       "    <tr>\n",
       "      <th>2</th>\n",
       "      <td>1997-08-30</td>\n",
       "      <td>24</td>\n",
       "      <td>F</td>\n",
       "      <td>LS</td>\n",
       "    </tr>\n",
       "    <tr>\n",
       "      <th>3</th>\n",
       "      <td>1963-06-14</td>\n",
       "      <td>58</td>\n",
       "      <td>M</td>\n",
       "      <td>BW</td>\n",
       "    </tr>\n",
       "    <tr>\n",
       "      <th>4</th>\n",
       "      <td>1964-01-02</td>\n",
       "      <td>58</td>\n",
       "      <td>M</td>\n",
       "      <td>EG</td>\n",
       "    </tr>\n",
       "  </tbody>\n",
       "</table>\n",
       "</div>"
      ],
      "text/plain": [
       "          DOB  age gender country\n",
       "0  1993-07-06   28      F      ZA\n",
       "1  1997-06-01   24      F      ZA\n",
       "2  1997-08-30   24      F      LS\n",
       "3  1963-06-14   58      M      BW\n",
       "4  1964-01-02   58      M      EG"
      ]
     },
     "execution_count": 14,
     "metadata": {},
     "output_type": "execute_result"
    }
   ],
   "source": [
    "df.head()"
   ]
  },
  {
   "cell_type": "code",
   "execution_count": 16,
   "metadata": {},
   "outputs": [
    {
     "name": "stdout",
     "output_type": "stream",
     "text": [
      "          DOB  age\n",
      "0  1993-07-06   28\n",
      "1  1997-06-01   24\n",
      "2  1997-08-30   24\n",
      "3  1963-06-14   58\n",
      "4  1964-01-02   58\n",
      "5  1952-06-20   69\n",
      "6  1987-04-23   34\n",
      "7  1987-09-22   34\n",
      "8  1994-06-19   27\n",
      "9  1972-09-17   49\n"
     ]
    }
   ],
   "source": [
    "print(df[['DOB', 'age']].head(10))"
   ]
  },
  {
   "cell_type": "code",
   "execution_count": 19,
   "metadata": {},
   "outputs": [
    {
     "data": {
      "text/html": [
       "<div>\n",
       "<style scoped>\n",
       "    .dataframe tbody tr th:only-of-type {\n",
       "        vertical-align: middle;\n",
       "    }\n",
       "\n",
       "    .dataframe tbody tr th {\n",
       "        vertical-align: top;\n",
       "    }\n",
       "\n",
       "    .dataframe thead th {\n",
       "        text-align: right;\n",
       "    }\n",
       "</style>\n",
       "<table border=\"1\" class=\"dataframe\">\n",
       "  <thead>\n",
       "    <tr style=\"text-align: right;\">\n",
       "      <th></th>\n",
       "      <th>DOB</th>\n",
       "      <th>age</th>\n",
       "    </tr>\n",
       "  </thead>\n",
       "  <tbody>\n",
       "    <tr>\n",
       "      <th>0</th>\n",
       "      <td>1993-07-06</td>\n",
       "      <td>28</td>\n",
       "    </tr>\n",
       "    <tr>\n",
       "      <th>1</th>\n",
       "      <td>1997-06-01</td>\n",
       "      <td>24</td>\n",
       "    </tr>\n",
       "    <tr>\n",
       "      <th>2</th>\n",
       "      <td>1997-08-30</td>\n",
       "      <td>24</td>\n",
       "    </tr>\n",
       "    <tr>\n",
       "      <th>3</th>\n",
       "      <td>1963-06-14</td>\n",
       "      <td>58</td>\n",
       "    </tr>\n",
       "    <tr>\n",
       "      <th>4</th>\n",
       "      <td>1964-01-02</td>\n",
       "      <td>58</td>\n",
       "    </tr>\n",
       "    <tr>\n",
       "      <th>5</th>\n",
       "      <td>1952-06-20</td>\n",
       "      <td>69</td>\n",
       "    </tr>\n",
       "    <tr>\n",
       "      <th>6</th>\n",
       "      <td>1987-04-23</td>\n",
       "      <td>34</td>\n",
       "    </tr>\n",
       "    <tr>\n",
       "      <th>7</th>\n",
       "      <td>1987-09-22</td>\n",
       "      <td>34</td>\n",
       "    </tr>\n",
       "    <tr>\n",
       "      <th>8</th>\n",
       "      <td>1994-06-19</td>\n",
       "      <td>27</td>\n",
       "    </tr>\n",
       "    <tr>\n",
       "      <th>9</th>\n",
       "      <td>1972-09-17</td>\n",
       "      <td>49</td>\n",
       "    </tr>\n",
       "    <tr>\n",
       "      <th>10</th>\n",
       "      <td>1980-05-21</td>\n",
       "      <td>41</td>\n",
       "    </tr>\n",
       "  </tbody>\n",
       "</table>\n",
       "</div>"
      ],
      "text/plain": [
       "           DOB  age\n",
       "0   1993-07-06   28\n",
       "1   1997-06-01   24\n",
       "2   1997-08-30   24\n",
       "3   1963-06-14   58\n",
       "4   1964-01-02   58\n",
       "5   1952-06-20   69\n",
       "6   1987-04-23   34\n",
       "7   1987-09-22   34\n",
       "8   1994-06-19   27\n",
       "9   1972-09-17   49\n",
       "10  1980-05-21   41"
      ]
     },
     "execution_count": 19,
     "metadata": {},
     "output_type": "execute_result"
    }
   ],
   "source": [
    "df[['DOB', 'age']].loc[0:10]"
   ]
  },
  {
   "cell_type": "code",
   "execution_count": 22,
   "metadata": {},
   "outputs": [
    {
     "name": "stdout",
     "output_type": "stream",
     "text": [
      "           DOB  age gender country\n",
      "1   1997-06-01   24      F      ZA\n",
      "2   1997-08-30   24      F      LS\n",
      "8   1994-06-19   27      M      GH\n",
      "0   1993-07-06   28      F      ZA\n",
      "6   1987-04-23   34      M      GH\n",
      "7   1987-09-22   34      F      KE\n",
      "13  1987-06-20   34      F      ZA\n",
      "12  1984-06-28   37      M      UG\n",
      "10  1980-05-21   41      M      ZA\n",
      "9   1972-09-17   49      F      ZA\n",
      "11  1969-02-15   52      M      NG\n",
      "3   1963-06-14   58      M      BW\n",
      "4   1964-01-02   58      M      EG\n",
      "5   1952-06-20   69      M      GH\n"
     ]
    }
   ],
   "source": [
    "# 4. Sort the age column in ascending order by age\n",
    "\n",
    "print(df.sort_values(by = 'age', ascending = True))"
   ]
  },
  {
   "cell_type": "code",
   "execution_count": 27,
   "metadata": {},
   "outputs": [
    {
     "name": "stdout",
     "output_type": "stream",
     "text": [
      "              age\n",
      "gender           \n",
      "F       32.166667\n",
      "M       47.000000\n"
     ]
    }
   ],
   "source": [
    "# 5. Group the men and women by their mean age and gender\n",
    "print(df.groupby(['gender']).mean())"
   ]
  },
  {
   "cell_type": "code",
   "execution_count": 28,
   "metadata": {},
   "outputs": [
    {
     "name": "stdout",
     "output_type": "stream",
     "text": [
      "Empty DataFrame\n",
      "Columns: [DOB, age, gender, country]\n",
      "Index: []\n"
     ]
    }
   ],
   "source": [
    "# 6. Create a filter that shows people below the age of 60, who are female (F) and are from Ghana (GH)\n",
    "filter = (df['age']<60) & (df['gender']=='F')&(df['country']=='GH')\n",
    "\n",
    "print(df[filter])"
   ]
  },
  {
   "cell_type": "code",
   "execution_count": 29,
   "metadata": {},
   "outputs": [
    {
     "data": {
      "text/html": [
       "<div>\n",
       "<style scoped>\n",
       "    .dataframe tbody tr th:only-of-type {\n",
       "        vertical-align: middle;\n",
       "    }\n",
       "\n",
       "    .dataframe tbody tr th {\n",
       "        vertical-align: top;\n",
       "    }\n",
       "\n",
       "    .dataframe thead th {\n",
       "        text-align: right;\n",
       "    }\n",
       "</style>\n",
       "<table border=\"1\" class=\"dataframe\">\n",
       "  <thead>\n",
       "    <tr style=\"text-align: right;\">\n",
       "      <th></th>\n",
       "      <th>DOB</th>\n",
       "      <th>age</th>\n",
       "      <th>gender</th>\n",
       "      <th>country</th>\n",
       "    </tr>\n",
       "  </thead>\n",
       "  <tbody>\n",
       "    <tr>\n",
       "      <th>0</th>\n",
       "      <td>1993-07-06</td>\n",
       "      <td>28</td>\n",
       "      <td>F</td>\n",
       "      <td>ZA</td>\n",
       "    </tr>\n",
       "    <tr>\n",
       "      <th>1</th>\n",
       "      <td>1997-06-01</td>\n",
       "      <td>24</td>\n",
       "      <td>F</td>\n",
       "      <td>ZA</td>\n",
       "    </tr>\n",
       "    <tr>\n",
       "      <th>2</th>\n",
       "      <td>1997-08-30</td>\n",
       "      <td>24</td>\n",
       "      <td>F</td>\n",
       "      <td>LS</td>\n",
       "    </tr>\n",
       "    <tr>\n",
       "      <th>3</th>\n",
       "      <td>1963-06-14</td>\n",
       "      <td>58</td>\n",
       "      <td>M</td>\n",
       "      <td>BW</td>\n",
       "    </tr>\n",
       "    <tr>\n",
       "      <th>4</th>\n",
       "      <td>1964-01-02</td>\n",
       "      <td>58</td>\n",
       "      <td>M</td>\n",
       "      <td>EG</td>\n",
       "    </tr>\n",
       "  </tbody>\n",
       "</table>\n",
       "</div>"
      ],
      "text/plain": [
       "          DOB  age gender country\n",
       "0  1993-07-06   28      F      ZA\n",
       "1  1997-06-01   24      F      ZA\n",
       "2  1997-08-30   24      F      LS\n",
       "3  1963-06-14   58      M      BW\n",
       "4  1964-01-02   58      M      EG"
      ]
     },
     "execution_count": 29,
     "metadata": {},
     "output_type": "execute_result"
    }
   ],
   "source": [
    "df.head()"
   ]
  },
  {
   "cell_type": "code",
   "execution_count": null,
   "metadata": {},
   "outputs": [],
   "source": []
  }
 ],
 "metadata": {
  "interpreter": {
   "hash": "58de013c4e40a10a7efe3c12eec354b1c6ee5fc00b1a74b18c170261e34affb2"
  },
  "kernelspec": {
   "display_name": "Python 3.9.2 64-bit",
   "language": "python",
   "name": "python3"
  },
  "language_info": {
   "codemirror_mode": {
    "name": "ipython",
    "version": 3
   },
   "file_extension": ".py",
   "mimetype": "text/x-python",
   "name": "python",
   "nbconvert_exporter": "python",
   "pygments_lexer": "ipython3",
   "version": "3.9.2"
  },
  "orig_nbformat": 4
 },
 "nbformat": 4,
 "nbformat_minor": 2
}
