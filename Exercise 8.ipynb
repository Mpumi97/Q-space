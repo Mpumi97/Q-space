{
 "cells": [
  {
   "cell_type": "code",
   "execution_count": 54,
   "metadata": {},
   "outputs": [],
   "source": [
    "# This function performs arithmetic operations on two numbers\n",
    "def arithmetic_func():\n",
    "\n",
    "    print(\"Summer School 2021 - Simple Arithmetic Calculator\")\n",
    "\n",
    "    num1 = float(input(\"Enter your first number: \"))\n",
    "    num2 = float(input(\"Enter your second number: \"))\n",
    "    operator = input(\"Enter your arithmetic operator: \")\n",
    "\n",
    "    \n",
    "    if operator == \"+\":\n",
    "        sum = num1 + num2\n",
    "        op = '+'\n",
    "    elif operator == \"-\":\n",
    "        sum = num1 - num2\n",
    "        op = '-'\n",
    "    elif operator == \"*\":\n",
    "        sum = num1 * num2\n",
    "        op = '*'\n",
    "    elif operator == \"/\":\n",
    "        op = '/'\n",
    "        try:\n",
    "            sum = num1/num2\n",
    "        except ZeroDivisionError:\n",
    "            print(\"Please enter a non-zero divisor\")\n",
    "            sum = None\n",
    "   \n",
    "    print(f\"The answer for {num1} {operator} {num2} = {sum}\")"
   ]
  },
  {
   "cell_type": "code",
   "execution_count": 55,
   "metadata": {},
   "outputs": [
    {
     "name": "stdout",
     "output_type": "stream",
     "text": [
      "Summer School 2021 - Simple Arithmetic Calculator\n",
      "Please enter a non-zero divisor\n",
      "The answer for 10.0 / 0.0 = None\n"
     ]
    }
   ],
   "source": [
    "arithmetic_func()"
   ]
  },
  {
   "cell_type": "code",
   "execution_count": 47,
   "metadata": {},
   "outputs": [
    {
     "data": {
      "text/plain": [
       "1.2857142857142858"
      ]
     },
     "execution_count": 47,
     "metadata": {},
     "output_type": "execute_result"
    }
   ],
   "source": [
    "9/7"
   ]
  },
  {
   "cell_type": "code",
   "execution_count": 48,
   "metadata": {},
   "outputs": [
    {
     "ename": "SyntaxError",
     "evalue": "unexpected character after line continuation character (661251250.py, line 1)",
     "output_type": "error",
     "traceback": [
      "\u001b[1;36m  Input \u001b[1;32mIn [48]\u001b[1;36m\u001b[0m\n\u001b[1;33m    9\\8\u001b[0m\n\u001b[1;37m       ^\u001b[0m\n\u001b[1;31mSyntaxError\u001b[0m\u001b[1;31m:\u001b[0m unexpected character after line continuation character\n"
     ]
    }
   ],
   "source": [
    "9\\8"
   ]
  },
  {
   "cell_type": "code",
   "execution_count": null,
   "metadata": {},
   "outputs": [],
   "source": []
  }
 ],
 "metadata": {
  "interpreter": {
   "hash": "58de013c4e40a10a7efe3c12eec354b1c6ee5fc00b1a74b18c170261e34affb2"
  },
  "kernelspec": {
   "display_name": "Python 3.9.2 64-bit",
   "language": "python",
   "name": "python3"
  },
  "language_info": {
   "codemirror_mode": {
    "name": "ipython",
    "version": 3
   },
   "file_extension": ".py",
   "mimetype": "text/x-python",
   "name": "python",
   "nbconvert_exporter": "python",
   "pygments_lexer": "ipython3",
   "version": "3.9.2"
  },
  "orig_nbformat": 4
 },
 "nbformat": 4,
 "nbformat_minor": 2
}
